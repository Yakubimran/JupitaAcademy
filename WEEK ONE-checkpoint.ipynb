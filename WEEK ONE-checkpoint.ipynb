{
 "cells": [
  {
   "cell_type": "markdown",
   "id": "66a278be",
   "metadata": {},
   "source": [
    "# JUPITA ACADEMY WEEK ONE"
   ]
  },
  {
   "cell_type": "markdown",
   "id": "1eeb7c0a",
   "metadata": {},
   "source": [
    "DATA TYPE AND ARITHEMETIC"
   ]
  },
  {
   "cell_type": "code",
   "execution_count": 1,
   "id": "c4e742fa",
   "metadata": {},
   "outputs": [],
   "source": [
    "Grade1=25  \n",
    "Grade2=30  \n",
    "Grade3=28 "
   ]
  },
  {
   "cell_type": "code",
   "execution_count": 2,
   "id": "6af3f589",
   "metadata": {},
   "outputs": [],
   "source": [
    "# Calculate and display the total number of students.\n",
    "Total_Students= Grade1 + Grade2 + Grade3"
   ]
  },
  {
   "cell_type": "code",
   "execution_count": 3,
   "id": "be345264",
   "metadata": {},
   "outputs": [
    {
     "name": "stdout",
     "output_type": "stream",
     "text": [
      "83\n"
     ]
    }
   ],
   "source": [
    "print(Total_Students)"
   ]
  },
  {
   "cell_type": "code",
   "execution_count": 4,
   "id": "9562c2ef",
   "metadata": {},
   "outputs": [],
   "source": [
    "# Calculate and display the average number of students per grade.\n",
    "Avg_Students= (Total_Students/3)"
   ]
  },
  {
   "cell_type": "code",
   "execution_count": 5,
   "id": "1de5b4a6",
   "metadata": {},
   "outputs": [
    {
     "name": "stdout",
     "output_type": "stream",
     "text": [
      "27.666666666666668\n"
     ]
    }
   ],
   "source": [
    "print(Avg_Students)"
   ]
  },
  {
   "cell_type": "markdown",
   "id": "7b80752a",
   "metadata": {},
   "source": [
    " Variable Assignment and String Manipulation"
   ]
  },
  {
   "cell_type": "code",
   "execution_count": 6,
   "id": "bd312127",
   "metadata": {},
   "outputs": [],
   "source": [
    "#Store the messages in variables corresponding to each grade.\n",
    "message_grade1 = \"Welcome to Grade 1! We are excited to have you.\"\n",
    "message_grade2 = \"Hello Grade 2 students! Get ready to learn and have fun.\"\n",
    "message_grade3 = \"Welcome Grade 3 students. Let's make this a great year of learning.\""
   ]
  },
  {
   "cell_type": "code",
   "execution_count": 7,
   "id": "4a5bdf48",
   "metadata": {},
   "outputs": [
    {
     "name": "stdout",
     "output_type": "stream",
     "text": [
      "Hello Grade 2 students! Get ready to learn and have fun.\n"
     ]
    }
   ],
   "source": [
    "# Task 2b: Display the message for Grade 2.\n",
    "print(message_grade2)"
   ]
  },
  {
   "cell_type": "markdown",
   "id": "e0d87762",
   "metadata": {},
   "source": [
    "Lists and Dictionaries"
   ]
  },
  {
   "cell_type": "code",
   "execution_count": 9,
   "id": "5e72fc05",
   "metadata": {},
   "outputs": [],
   "source": [
    "# Create a list of grades\n",
    "grades = ['Grade 1', 'Grade 2', 'Grade 3']"
   ]
  },
  {
   "cell_type": "code",
   "execution_count": 10,
   "id": "3522861e",
   "metadata": {},
   "outputs": [],
   "source": [
    "#Create a list of subjects for each grade.\n",
    "subjects = {'Grade 1': ['Math', 'English', 'Science'],\n",
    "            'Grade 2': ['English', 'Science', 'History'],\n",
    "            'Grade 3': ['Science', 'History', 'Math'] }\n"
   ]
  },
  {
   "cell_type": "code",
   "execution_count": 11,
   "id": "90eab8cf",
   "metadata": {},
   "outputs": [],
   "source": [
    "#Create a dictionary where keys are the grade names and values are lists of teachers for each grade.\n",
    "teachers = {'Grade 1': ['Mr. Smith', 'Ms. Johnson', 'Mr. Davis'],\n",
    "            'Grade 2': ['Ms. Williams', 'Mr. Davis', 'Ms. Brown'],\n",
    "            'Grade 3': ['Ms. Davis', 'Mr. Johnson', 'Mr. Smith'] }"
   ]
  },
  {
   "cell_type": "code",
   "execution_count": 12,
   "id": "a1ace859",
   "metadata": {},
   "outputs": [
    {
     "name": "stdout",
     "output_type": "stream",
     "text": [
      "Subjects taught in Grade 3: Science, History, Math\n"
     ]
    }
   ],
   "source": [
    "#Display the subjects taught in Grade 3.\n",
    "print(f\"Subjects taught in Grade 3: {', '.join(subjects['Grade 3'])}\")"
   ]
  },
  {
   "cell_type": "code",
   "execution_count": 13,
   "id": "1abd81d2",
   "metadata": {},
   "outputs": [
    {
     "name": "stdout",
     "output_type": "stream",
     "text": [
      "Teachers for Grade 2: ['Ms. Williams', 'Mr. Davis', 'Ms. Brown']\n"
     ]
    }
   ],
   "source": [
    "#Display the values of Grade 2 in the dictionary.\n",
    "print(f\"Teachers for Grade 2: {teachers['Grade 2']}\")\n"
   ]
  }
 ],
 "metadata": {
  "kernelspec": {
   "display_name": "Python 3 (ipykernel)",
   "language": "python",
   "name": "python3"
  },
  "language_info": {
   "codemirror_mode": {
    "name": "ipython",
    "version": 3
   },
   "file_extension": ".py",
   "mimetype": "text/x-python",
   "name": "python",
   "nbconvert_exporter": "python",
   "pygments_lexer": "ipython3",
   "version": "3.9.12"
  }
 },
 "nbformat": 4,
 "nbformat_minor": 5
}
